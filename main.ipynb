{
 "cells": [
  {
   "cell_type": "markdown",
   "id": "b7602297",
   "metadata": {},
   "source": [
    "### TL;DR:"
   ]
  },
  {
   "cell_type": "code",
   "execution_count": null,
   "id": "b94d7005",
   "metadata": {
    "scrolled": false
   },
   "outputs": [],
   "source": [
    "# TL;DR - Run this cell to see the program's functionality for the stated below data.\n",
    "# For a more detailed guide-through, please skip this cell.\n",
    "\n",
    "from interface import SAT\n",
    "SAT(n=5, constraints_string='([4][3][2] != [0]),([2] == [3]),([3] == [4]),([0] != [1])', shots=1024, solutions_num=3)"
   ]
  },
  {
   "cell_type": "markdown",
   "id": "4d02922e",
   "metadata": {},
   "source": [
    "# SAT Circuits Synthesis Engine\n",
    "\n",
    "This program builds and runs quantum circuits for a specific type of SAT problems.\\\n",
    "The program is Qiskit-based, with an ingenuine implementation (no use in high-level Qiskit extenstions is made) - based on Grover's algorithm and amplitude amplification.\\\n",
    "Since these kind of algorithms are totally impractical for NISQ devices, the program strictly uses the local Qiskit Aer simulator, in noiseless conditions.\\\n",
    "The program assumes naviely valid user inputs - invalid input formats would probably result in an error.\n",
    "\n",
    "#### Several interfaces for using the program are suggested:\n",
    "\n",
    "1. Calling `SAT()` without any parameters, and an interactive interface will ask you for several inputs.\n",
    "2. Calling `SAT(n, constraints_string, shots, solutions_num)` and defining values for each of the parameters (otherwise the interactive interface will be activated).\n",
    "3. Calling specific methods for the purpose of running distinct parts of the program (for only retrieving the circuit without running it, for example) - examples appear later on in this page.\n",
    "4. NOTE that it's possible to run the program also from the terminal or the command line (by running the code in the next cell) - though my recommendation is using Jupyter Notebook for the best visualizations.\n",
    "\n",
    "Since **option 1** is the most convenient one, if you choose this option just run the next cell and the interactive interface will guide you through.\\\n",
    "**NOTE:** it's important that you enter the string of constraints in a valid format. The format is explained within the interactive interface process - the explanation is imported from the <a href=\"constraints_format.txt\">constraints_format.txt</a> file, and pre-tested examples data can be found in the <a href=\"test_data.txt\">test_data.txt</a> file.\n",
    "\n",
    "Examples for using the other options stated above, followed by output samples - appear after next cell.\n",
    "\n",
    "### Option 1 - Interactive Interface:"
   ]
  },
  {
   "cell_type": "code",
   "execution_count": null,
   "id": "cc5fca18-f8f7-4a3c-9e33-26db5c3b06ce",
   "metadata": {
    "scrolled": false
   },
   "outputs": [],
   "source": [
    "# Option 1.\n",
    "# Run this cell to begin.\n",
    "\n",
    "from interface import SAT\n",
    "SAT()"
   ]
  },
  {
   "cell_type": "markdown",
   "id": "0d32c4b4",
   "metadata": {},
   "source": [
    "### Option 2 - Calling `SAT(params)` Directly:\n",
    "\n",
    "Let's consider the example from the TL;DR section above:"
   ]
  },
  {
   "cell_type": "code",
   "execution_count": null,
   "id": "d6397f1b",
   "metadata": {},
   "outputs": [],
   "source": [
    "# Option 2.\n",
    "# It is recommended to go through the explanation first and then running this cell with a desired data.\n",
    "\n",
    "from interface import SAT\n",
    "SAT(n=5, constraints_string='([4][3][2] != [0]),([2] == [3]),([3] == [4]),([0] != [1])', shots=1024, solutions_num=3)"
   ]
  },
  {
   "cell_type": "markdown",
   "id": "0d49cd2b",
   "metadata": {},
   "source": [
    "#### Parameters explained:\n",
    "1. `n` = The desired number of qubits.\\\n",
    "2. `constraints_string` = The SAT problem input in a specific format - <a href=\"constraints_format.txt\">constraints_format.txt</a> (take a look on the format's guidelines!). Pre-tested example data can be found in the <a href=\"test_data.txt\">test_data.txt</a> file.\n",
    "3. `shots` = The desired number of shots (If not sure, set to 1024).\n",
    "4. `solutions_num` = The expected number of solutions for the SAT problem. If the expected number of solutions is known - enter it - it's the most simple and easy case. If the expected number of solutions is unknown, enter a value of -1. The program will handle this using a variation of a method described in <a href=\"https://arxiv.org/abs/quant-ph/9605034\">this paper</a> (section 4) by *Boyer et al*. We chose to use a computational-costly variation of the described method for the sake of results' complecity - The program will find an adequate number of iterations over Grover's iterator, followed by a full representation of the results (as in the case where the exact number of expected solutions is known).\n",
    "\n",
    "#### Results review:\n",
    "The program will output (in this order):\n",
    "1. Histogram representation of the results.\n",
    "2. Dictionary representation of the results.\n",
    "3. The high-level overall circuit scheme.\n",
    "4. High-level representation of the Grover's operator built by the program.\n",
    "5. Low-level representation of the Grover's operator built by the program.\n",
    "\n",
    "For our example, output (4) is:\n",
    "<img src=\"images/operator_HL_example.png\" />\n",
    "\n",
    "And output (5) is:\n",
    "<img src=\"images/operator_LL_example.png\" />"
   ]
  },
  {
   "cell_type": "markdown",
   "id": "896d9247",
   "metadata": {},
   "source": [
    "### Option 3 - Partly Usage:\n",
    "\n",
    "One might obtain solely the appropriate Grover's operator for given constraints, by explicitly creating the `Constraints` object (child class of `QuantumCircuit`), using the following code, for instance:"
   ]
  },
  {
   "cell_type": "code",
   "execution_count": null,
   "id": "bf801bcf",
   "metadata": {},
   "outputs": [],
   "source": [
    "from engine import Constraints\n",
    "\n",
    "operator = Constraints(constraints_string='([4][3][2] != [0]),([2] == [3]),([3] == [4]),([0] != [1])', n=5)"
   ]
  },
  {
   "cell_type": "markdown",
   "id": "797af4f5",
   "metadata": {},
   "source": [
    "By drawing `operator` an identical circuit to output (4) above is obtained:"
   ]
  },
  {
   "cell_type": "code",
   "execution_count": null,
   "id": "ab1f6275",
   "metadata": {},
   "outputs": [],
   "source": [
    "operator.draw(output='mpl', fold=-1)"
   ]
  }
 ],
 "metadata": {
  "kernelspec": {
   "display_name": "Python 3 (ipykernel)",
   "language": "python",
   "name": "python3"
  },
  "language_info": {
   "codemirror_mode": {
    "name": "ipython",
    "version": 3
   },
   "file_extension": ".py",
   "mimetype": "text/x-python",
   "name": "python",
   "nbconvert_exporter": "python",
   "pygments_lexer": "ipython3",
   "version": "3.9.7"
  },
  "vscode": {
   "interpreter": {
    "hash": "478dcf6de927c4d0f84b9dc12e3bc9eb9b47a412641ebc77390ba05b55b246a5"
   }
  },
  "widgets": {
   "application/vnd.jupyter.widget-state+json": {
    "state": {
     "02395208397644138797d75d7b934fc1": {
      "model_module": "@jupyter-widgets/controls",
      "model_module_version": "1.5.0",
      "model_name": "DescriptionStyleModel",
      "state": {
       "description_width": ""
      }
     },
     "0905ff2d042d49c1965953c0443fbe28": {
      "model_module": "@jupyter-widgets/controls",
      "model_module_version": "1.5.0",
      "model_name": "DescriptionStyleModel",
      "state": {
       "description_width": ""
      }
     },
     "14c3dfb2eb7e4eb49736179371ba41cc": {
      "model_module": "@jupyter-widgets/base",
      "model_module_version": "1.2.0",
      "model_name": "LayoutModel",
      "state": {
       "margin": "0px 0px 10px 0px"
      }
     },
     "164c6e2c92654ecd9019a45b6e5af5e7": {
      "model_module": "@jupyter-widgets/base",
      "model_module_version": "1.2.0",
      "model_name": "LayoutModel",
      "state": {
       "width": "145px"
      }
     },
     "41b8febbac594ab1846e48efd234c656": {
      "model_module": "@jupyter-widgets/controls",
      "model_module_version": "1.5.0",
      "model_name": "HTMLModel",
      "state": {
       "layout": "IPY_MODEL_14c3dfb2eb7e4eb49736179371ba41cc",
       "style": "IPY_MODEL_5eda41a3a794411d9aac737ec3a0990c",
       "value": "<p style='font-family: IBM Plex Sans, Arial, Helvetica, sans-serif; font-size: 20px; font-weight: medium;'>Circuit Properties</p>"
      }
     },
     "43859a46cfff428cabf051fc5de2b582": {
      "model_module": "@jupyter-widgets/controls",
      "model_module_version": "1.5.0",
      "model_name": "ButtonStyleModel",
      "state": {}
     },
     "46ead313f68141719b36579d011f59aa": {
      "model_module": "@jupyter-widgets/controls",
      "model_module_version": "1.5.0",
      "model_name": "DescriptionStyleModel",
      "state": {
       "description_width": ""
      }
     },
     "571fa101b4fc4c50980e83a842a13191": {
      "model_module": "@jupyter-widgets/controls",
      "model_module_version": "1.5.0",
      "model_name": "HTMLModel",
      "state": {
       "layout": "IPY_MODEL_c9849fc28135482fb8e04cde56076c8c",
       "style": "IPY_MODEL_0905ff2d042d49c1965953c0443fbe28",
       "value": "<h5>Job ID</h5>"
      }
     },
     "59c7dbde60de46f7876c44345cb36793": {
      "model_module": "@jupyter-widgets/controls",
      "model_module_version": "1.5.0",
      "model_name": "HTMLModel",
      "state": {
       "layout": "IPY_MODEL_164c6e2c92654ecd9019a45b6e5af5e7",
       "style": "IPY_MODEL_46ead313f68141719b36579d011f59aa",
       "value": "<h5>Backend</h5>"
      }
     },
     "5eda41a3a794411d9aac737ec3a0990c": {
      "model_module": "@jupyter-widgets/controls",
      "model_module_version": "1.5.0",
      "model_name": "DescriptionStyleModel",
      "state": {
       "description_width": ""
      }
     },
     "7006183f11c74f12b6b47e990f9027ae": {
      "model_module": "@jupyter-widgets/controls",
      "model_module_version": "1.5.0",
      "model_name": "HTMLModel",
      "state": {
       "layout": "IPY_MODEL_a10c7b2cdb5e453490d3f7004dc27db2",
       "style": "IPY_MODEL_f4a856138ca44036b707a22db1f97279",
       "value": "<h5>Status</h5>"
      }
     },
     "73a729f3506a4e3198aedb698b3d98c7": {
      "model_module": "@jupyter-widgets/base",
      "model_module_version": "1.2.0",
      "model_name": "LayoutModel",
      "state": {
       "margin": "0px 0px 0px 37px",
       "width": "600px"
      }
     },
     "74b41b7317c04c409a09b47ea58f24a1": {
      "model_module": "@jupyter-widgets/controls",
      "model_module_version": "1.5.0",
      "model_name": "HTMLModel",
      "state": {
       "layout": "IPY_MODEL_cb6bfe195f6e4e1aaa7b75b16e55d24a",
       "style": "IPY_MODEL_f968e6550ddf4d6b9c9ad997847c94b8",
       "value": "<h5>Message</h5>"
      }
     },
     "8ffc82e90506493782b38352d91379c6": {
      "model_module": "@jupyter-widgets/base",
      "model_module_version": "1.2.0",
      "model_name": "LayoutModel",
      "state": {
       "grid_area": "right",
       "padding": "0px 0px 0px 0px",
       "width": "70px"
      }
     },
     "a10c7b2cdb5e453490d3f7004dc27db2": {
      "model_module": "@jupyter-widgets/base",
      "model_module_version": "1.2.0",
      "model_name": "LayoutModel",
      "state": {
       "width": "95px"
      }
     },
     "c9849fc28135482fb8e04cde56076c8c": {
      "model_module": "@jupyter-widgets/base",
      "model_module_version": "1.2.0",
      "model_name": "LayoutModel",
      "state": {
       "width": "190px"
      }
     },
     "c9d67e100c1a40a0a716d656aebecd33": {
      "model_module": "@jupyter-widgets/base",
      "model_module_version": "1.2.0",
      "model_name": "LayoutModel",
      "state": {
       "width": "70px"
      }
     },
     "cb6bfe195f6e4e1aaa7b75b16e55d24a": {
      "model_module": "@jupyter-widgets/base",
      "model_module_version": "1.2.0",
      "model_name": "LayoutModel",
      "state": {}
     },
     "d47790c739054b8f808b3b239afaae83": {
      "model_module": "@jupyter-widgets/base",
      "model_module_version": "1.2.0",
      "model_name": "LayoutModel",
      "state": {
       "grid_template_areas": "\n                                       \". . . . right \"\n                                        ",
       "grid_template_columns": "20% 20% 20% 20% 20%",
       "width": "100%"
      }
     },
     "df755e5226e74d18bf321c8de8988a19": {
      "model_module": "@jupyter-widgets/controls",
      "model_module_version": "1.5.0",
      "model_name": "GridBoxModel",
      "state": {
       "children": [
        "IPY_MODEL_e326789954044ba5a1ed671c0081cd14"
       ],
       "layout": "IPY_MODEL_d47790c739054b8f808b3b239afaae83"
      }
     },
     "e326789954044ba5a1ed671c0081cd14": {
      "model_module": "@jupyter-widgets/controls",
      "model_module_version": "1.5.0",
      "model_name": "ButtonModel",
      "state": {
       "button_style": "primary",
       "description": "Clear",
       "layout": "IPY_MODEL_8ffc82e90506493782b38352d91379c6",
       "style": "IPY_MODEL_43859a46cfff428cabf051fc5de2b582"
      }
     },
     "eb1fd2e083e24a98991c3cc2125f5afd": {
      "model_module": "@jupyter-widgets/controls",
      "model_module_version": "1.5.0",
      "model_name": "HBoxModel",
      "state": {
       "children": [
        "IPY_MODEL_571fa101b4fc4c50980e83a842a13191",
        "IPY_MODEL_59c7dbde60de46f7876c44345cb36793",
        "IPY_MODEL_7006183f11c74f12b6b47e990f9027ae",
        "IPY_MODEL_f09692c93b38401d950bac1b8bbe74bf",
        "IPY_MODEL_74b41b7317c04c409a09b47ea58f24a1"
       ],
       "layout": "IPY_MODEL_73a729f3506a4e3198aedb698b3d98c7"
      }
     },
     "f09692c93b38401d950bac1b8bbe74bf": {
      "model_module": "@jupyter-widgets/controls",
      "model_module_version": "1.5.0",
      "model_name": "HTMLModel",
      "state": {
       "layout": "IPY_MODEL_c9d67e100c1a40a0a716d656aebecd33",
       "style": "IPY_MODEL_02395208397644138797d75d7b934fc1",
       "value": "<h5>Queue</h5>"
      }
     },
     "f4a856138ca44036b707a22db1f97279": {
      "model_module": "@jupyter-widgets/controls",
      "model_module_version": "1.5.0",
      "model_name": "DescriptionStyleModel",
      "state": {
       "description_width": ""
      }
     },
     "f968e6550ddf4d6b9c9ad997847c94b8": {
      "model_module": "@jupyter-widgets/controls",
      "model_module_version": "1.5.0",
      "model_name": "DescriptionStyleModel",
      "state": {
       "description_width": ""
      }
     }
    },
    "version_major": 2,
    "version_minor": 0
   }
  }
 },
 "nbformat": 4,
 "nbformat_minor": 5
}

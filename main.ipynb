{
 "cells": [
  {
   "cell_type": "code",
   "execution_count": null,
   "id": "cc5fca18-f8f7-4a3c-9e33-26db5c3b06ce",
   "metadata": {
    "scrolled": false
   },
   "outputs": [],
   "source": [
    "import parse\n",
    "import circuit\n",
    "import interface\n",
    "import handle_solutions\n",
    "\n",
    "interface.RunProgram()\n",
    "\n",
    "# Run This cell to begin"
   ]
  }
 ],
 "metadata": {
  "kernelspec": {
   "display_name": "Python 3 (ipykernel)",
   "language": "python",
   "name": "python3"
  },
  "language_info": {
   "codemirror_mode": {
    "name": "ipython",
    "version": 3
   },
   "file_extension": ".py",
   "mimetype": "text/x-python",
   "name": "python",
   "nbconvert_exporter": "python",
   "pygments_lexer": "ipython3",
   "version": "3.9.7"
  },
  "widgets": {
   "application/vnd.jupyter.widget-state+json": {
    "state": {
     "02395208397644138797d75d7b934fc1": {
      "model_module": "@jupyter-widgets/controls",
      "model_module_version": "1.5.0",
      "model_name": "DescriptionStyleModel",
      "state": {
       "description_width": ""
      }
     },
     "0905ff2d042d49c1965953c0443fbe28": {
      "model_module": "@jupyter-widgets/controls",
      "model_module_version": "1.5.0",
      "model_name": "DescriptionStyleModel",
      "state": {
       "description_width": ""
      }
     },
     "14c3dfb2eb7e4eb49736179371ba41cc": {
      "model_module": "@jupyter-widgets/base",
      "model_module_version": "1.2.0",
      "model_name": "LayoutModel",
      "state": {
       "margin": "0px 0px 10px 0px"
      }
     },
     "164c6e2c92654ecd9019a45b6e5af5e7": {
      "model_module": "@jupyter-widgets/base",
      "model_module_version": "1.2.0",
      "model_name": "LayoutModel",
      "state": {
       "width": "145px"
      }
     },
     "41b8febbac594ab1846e48efd234c656": {
      "model_module": "@jupyter-widgets/controls",
      "model_module_version": "1.5.0",
      "model_name": "HTMLModel",
      "state": {
       "layout": "IPY_MODEL_14c3dfb2eb7e4eb49736179371ba41cc",
       "style": "IPY_MODEL_5eda41a3a794411d9aac737ec3a0990c",
       "value": "<p style='font-family: IBM Plex Sans, Arial, Helvetica, sans-serif; font-size: 20px; font-weight: medium;'>Circuit Properties</p>"
      }
     },
     "43859a46cfff428cabf051fc5de2b582": {
      "model_module": "@jupyter-widgets/controls",
      "model_module_version": "1.5.0",
      "model_name": "ButtonStyleModel",
      "state": {}
     },
     "46ead313f68141719b36579d011f59aa": {
      "model_module": "@jupyter-widgets/controls",
      "model_module_version": "1.5.0",
      "model_name": "DescriptionStyleModel",
      "state": {
       "description_width": ""
      }
     },
     "571fa101b4fc4c50980e83a842a13191": {
      "model_module": "@jupyter-widgets/controls",
      "model_module_version": "1.5.0",
      "model_name": "HTMLModel",
      "state": {
       "layout": "IPY_MODEL_c9849fc28135482fb8e04cde56076c8c",
       "style": "IPY_MODEL_0905ff2d042d49c1965953c0443fbe28",
       "value": "<h5>Job ID</h5>"
      }
     },
     "59c7dbde60de46f7876c44345cb36793": {
      "model_module": "@jupyter-widgets/controls",
      "model_module_version": "1.5.0",
      "model_name": "HTMLModel",
      "state": {
       "layout": "IPY_MODEL_164c6e2c92654ecd9019a45b6e5af5e7",
       "style": "IPY_MODEL_46ead313f68141719b36579d011f59aa",
       "value": "<h5>Backend</h5>"
      }
     },
     "5eda41a3a794411d9aac737ec3a0990c": {
      "model_module": "@jupyter-widgets/controls",
      "model_module_version": "1.5.0",
      "model_name": "DescriptionStyleModel",
      "state": {
       "description_width": ""
      }
     },
     "7006183f11c74f12b6b47e990f9027ae": {
      "model_module": "@jupyter-widgets/controls",
      "model_module_version": "1.5.0",
      "model_name": "HTMLModel",
      "state": {
       "layout": "IPY_MODEL_a10c7b2cdb5e453490d3f7004dc27db2",
       "style": "IPY_MODEL_f4a856138ca44036b707a22db1f97279",
       "value": "<h5>Status</h5>"
      }
     },
     "73a729f3506a4e3198aedb698b3d98c7": {
      "model_module": "@jupyter-widgets/base",
      "model_module_version": "1.2.0",
      "model_name": "LayoutModel",
      "state": {
       "margin": "0px 0px 0px 37px",
       "width": "600px"
      }
     },
     "74b41b7317c04c409a09b47ea58f24a1": {
      "model_module": "@jupyter-widgets/controls",
      "model_module_version": "1.5.0",
      "model_name": "HTMLModel",
      "state": {
       "layout": "IPY_MODEL_cb6bfe195f6e4e1aaa7b75b16e55d24a",
       "style": "IPY_MODEL_f968e6550ddf4d6b9c9ad997847c94b8",
       "value": "<h5>Message</h5>"
      }
     },
     "8ffc82e90506493782b38352d91379c6": {
      "model_module": "@jupyter-widgets/base",
      "model_module_version": "1.2.0",
      "model_name": "LayoutModel",
      "state": {
       "grid_area": "right",
       "padding": "0px 0px 0px 0px",
       "width": "70px"
      }
     },
     "a10c7b2cdb5e453490d3f7004dc27db2": {
      "model_module": "@jupyter-widgets/base",
      "model_module_version": "1.2.0",
      "model_name": "LayoutModel",
      "state": {
       "width": "95px"
      }
     },
     "c9849fc28135482fb8e04cde56076c8c": {
      "model_module": "@jupyter-widgets/base",
      "model_module_version": "1.2.0",
      "model_name": "LayoutModel",
      "state": {
       "width": "190px"
      }
     },
     "c9d67e100c1a40a0a716d656aebecd33": {
      "model_module": "@jupyter-widgets/base",
      "model_module_version": "1.2.0",
      "model_name": "LayoutModel",
      "state": {
       "width": "70px"
      }
     },
     "cb6bfe195f6e4e1aaa7b75b16e55d24a": {
      "model_module": "@jupyter-widgets/base",
      "model_module_version": "1.2.0",
      "model_name": "LayoutModel",
      "state": {}
     },
     "d47790c739054b8f808b3b239afaae83": {
      "model_module": "@jupyter-widgets/base",
      "model_module_version": "1.2.0",
      "model_name": "LayoutModel",
      "state": {
       "grid_template_areas": "\n                                       \". . . . right \"\n                                        ",
       "grid_template_columns": "20% 20% 20% 20% 20%",
       "width": "100%"
      }
     },
     "df755e5226e74d18bf321c8de8988a19": {
      "model_module": "@jupyter-widgets/controls",
      "model_module_version": "1.5.0",
      "model_name": "GridBoxModel",
      "state": {
       "children": [
        "IPY_MODEL_e326789954044ba5a1ed671c0081cd14"
       ],
       "layout": "IPY_MODEL_d47790c739054b8f808b3b239afaae83"
      }
     },
     "e326789954044ba5a1ed671c0081cd14": {
      "model_module": "@jupyter-widgets/controls",
      "model_module_version": "1.5.0",
      "model_name": "ButtonModel",
      "state": {
       "button_style": "primary",
       "description": "Clear",
       "layout": "IPY_MODEL_8ffc82e90506493782b38352d91379c6",
       "style": "IPY_MODEL_43859a46cfff428cabf051fc5de2b582"
      }
     },
     "eb1fd2e083e24a98991c3cc2125f5afd": {
      "model_module": "@jupyter-widgets/controls",
      "model_module_version": "1.5.0",
      "model_name": "HBoxModel",
      "state": {
       "children": [
        "IPY_MODEL_571fa101b4fc4c50980e83a842a13191",
        "IPY_MODEL_59c7dbde60de46f7876c44345cb36793",
        "IPY_MODEL_7006183f11c74f12b6b47e990f9027ae",
        "IPY_MODEL_f09692c93b38401d950bac1b8bbe74bf",
        "IPY_MODEL_74b41b7317c04c409a09b47ea58f24a1"
       ],
       "layout": "IPY_MODEL_73a729f3506a4e3198aedb698b3d98c7"
      }
     },
     "f09692c93b38401d950bac1b8bbe74bf": {
      "model_module": "@jupyter-widgets/controls",
      "model_module_version": "1.5.0",
      "model_name": "HTMLModel",
      "state": {
       "layout": "IPY_MODEL_c9d67e100c1a40a0a716d656aebecd33",
       "style": "IPY_MODEL_02395208397644138797d75d7b934fc1",
       "value": "<h5>Queue</h5>"
      }
     },
     "f4a856138ca44036b707a22db1f97279": {
      "model_module": "@jupyter-widgets/controls",
      "model_module_version": "1.5.0",
      "model_name": "DescriptionStyleModel",
      "state": {
       "description_width": ""
      }
     },
     "f968e6550ddf4d6b9c9ad997847c94b8": {
      "model_module": "@jupyter-widgets/controls",
      "model_module_version": "1.5.0",
      "model_name": "DescriptionStyleModel",
      "state": {
       "description_width": ""
      }
     }
    },
    "version_major": 2,
    "version_minor": 0
   }
  }
 },
 "nbformat": 4,
 "nbformat_minor": 5
}
